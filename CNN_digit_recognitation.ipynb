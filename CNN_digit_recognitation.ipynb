{
  "nbformat": 4,
  "nbformat_minor": 0,
  "metadata": {
    "colab": {
      "provenance": []
    },
    "kernelspec": {
      "name": "python3",
      "display_name": "Python 3"
    },
    "language_info": {
      "name": "python"
    }
  },
  "cells": [
    {
      "cell_type": "code",
      "execution_count": 44,
      "metadata": {
        "id": "Ia9X3BRkuE8-"
      },
      "outputs": [],
      "source": [
        "from sklearn.datasets import load_digits"
      ]
    },
    {
      "cell_type": "code",
      "source": [
        "digits = load_digits()\n",
        "X = digits.images\n",
        "y = digits.target"
      ],
      "metadata": {
        "id": "kpA5-CDnuOsL"
      },
      "execution_count": 45,
      "outputs": []
    },
    {
      "cell_type": "code",
      "source": [
        "# see the shape of the images\n",
        "print(\"Images shape:\",X.shape)\n",
        "print(\"labels shape:\",y.shape)"
      ],
      "metadata": {
        "colab": {
          "base_uri": "https://localhost:8080/"
        },
        "id": "yKbErXrkuweW",
        "outputId": "c98e274a-0c1b-4782-9ed7-4f7079694ed2"
      },
      "execution_count": 46,
      "outputs": [
        {
          "output_type": "stream",
          "name": "stdout",
          "text": [
            "Images shape: (1797, 8, 8)\n",
            "labels shape: (1797,)\n"
          ]
        }
      ]
    },
    {
      "cell_type": "markdown",
      "source": [
        "8×8 grayscale images images hai"
      ],
      "metadata": {
        "id": "yrs1iEIYvGvw"
      }
    },
    {
      "cell_type": "code",
      "source": [
        "# see the images pictures\n",
        "import matplotlib.pyplot as plt\n",
        "plt.imshow(X[1], cmap='gray')\n",
        "plt.show()"
      ],
      "metadata": {
        "colab": {
          "base_uri": "https://localhost:8080/",
          "height": 430
        },
        "id": "BZ_9kDZuuS31",
        "outputId": "fd6500ac-48bc-4028-fbd6-330197f3ffe7"
      },
      "execution_count": 47,
      "outputs": [
        {
          "output_type": "display_data",
          "data": {
            "text/plain": [
              "<Figure size 640x480 with 1 Axes>"
            ],
            "image/png": "[encoded data removed]"
          },
          "metadata": {}
        }
      ]
    },
    {
      "cell_type": "code",
      "source": [
        "# input shape cnn [Batch, Channel, Height, Width]\n",
        "X.shape # see the channel dimention are missing\n"
      ],
      "metadata": {
        "colab": {
          "base_uri": "https://localhost:8080/"
        },
        "id": "cMqNhWrSujoH",
        "outputId": "dae33f1d-9811-4d99-967b-335fe0cb0735"
      },
      "execution_count": 48,
      "outputs": [
        {
          "output_type": "execute_result",
          "data": {
            "text/plain": [
              "(1797, 8, 8)"
            ]
          },
          "metadata": {},
          "execution_count": 48
        }
      ]
    },
    {
      "cell_type": "code",
      "source": [
        "import numpy as np\n",
        "X = X[:, np.newaxis, :, :]   # shape ab (1797, 1, 8, 8)\n",
        "print(\"After channel add:\", X.shape)"
      ],
      "metadata": {
        "colab": {
          "base_uri": "https://localhost:8080/"
        },
        "id": "tWgOTTm3vk64",
        "outputId": "861a9fdd-77f8-4300-e067-c9fcc786277b"
      },
      "execution_count": 49,
      "outputs": [
        {
          "output_type": "stream",
          "name": "stdout",
          "text": [
            "After channel add: (1797, 1, 8, 8)\n"
          ]
        }
      ]
    },
    {
      "cell_type": "code",
      "source": [
        "# data set has pixal 0 to 16\n",
        "# but we 0 to 1\n",
        "X = X/16\n",
        "print(\"Pixel range:\", X.min(), \"to\", X.max())"
      ],
      "metadata": {
        "colab": {
          "base_uri": "https://localhost:8080/"
        },
        "id": "M5GAshWMvzh3",
        "outputId": "b40c8633-8d80-4239-8a68-3fcaec5321a6"
      },
      "execution_count": 50,
      "outputs": [
        {
          "output_type": "stream",
          "name": "stdout",
          "text": [
            "Pixel range: 0.0 to 1.0\n"
          ]
        }
      ]
    },
    {
      "cell_type": "code",
      "source": [
        "from sklearn.model_selection import train_test_split\n",
        "X_train, X_test, y_train, y_test = train_test_split(X, y, test_size=0.2, random_state=42, stratify=y)"
      ],
      "metadata": {
        "id": "GT_msYKiwaN3"
      },
      "execution_count": 51,
      "outputs": []
    },
    {
      "cell_type": "code",
      "source": [
        "print(\"Train shape:\", X_train.shape, y_train.shape)\n",
        "print(\"Test shape :\", X_test.shape, y_test.shape)"
      ],
      "metadata": {
        "colab": {
          "base_uri": "https://localhost:8080/"
        },
        "id": "lUyAu3yrwuFF",
        "outputId": "50a4d305-626a-4216-ad1f-bb76cae22173"
      },
      "execution_count": 52,
      "outputs": [
        {
          "output_type": "stream",
          "name": "stdout",
          "text": [
            "Train shape: (1437, 1, 8, 8) (1437,)\n",
            "Test shape : (360, 1, 8, 8) (360,)\n"
          ]
        }
      ]
    },
    {
      "cell_type": "code",
      "source": [
        "# convert the torch tensor\n",
        "import torch\n",
        "X_train_t = torch.tensor(X_train,dtype=torch.float32)\n",
        "y_train_t = torch.tensor(y_train,dtype=torch.long)\n",
        "\n",
        "X_test_t = torch.tensor(X_test, dtype=torch.float32)\n",
        "y_test_t = torch.tensor(y_test, dtype=torch.long)"
      ],
      "metadata": {
        "id": "hY0lzVn4wxWy"
      },
      "execution_count": 53,
      "outputs": []
    },
    {
      "cell_type": "code",
      "source": [
        "# dataloader\n",
        "from torch.utils.data import DataLoader, TensorDataset\n",
        "train_ds = TensorDataset(X_train_t, y_train_t)\n",
        "test_ds = TensorDataset(X_test_t, y_test_t)"
      ],
      "metadata": {
        "id": "9G7PHOyHyIU3"
      },
      "execution_count": 54,
      "outputs": []
    },
    {
      "cell_type": "code",
      "source": [
        "# dataloader\n",
        "train_loader = DataLoader(train_ds, batch_size=32, shuffle=True)\n",
        "test_loader = DataLoader(test_ds, batch_size=32, shuffle=False)"
      ],
      "metadata": {
        "id": "8bGihLj3yebD"
      },
      "execution_count": 55,
      "outputs": []
    },
    {
      "cell_type": "code",
      "source": [
        "# chacke the dataste\n",
        "xb,yb = next(iter(train_loader))\n",
        "print(\"X batch shape:\", xb.shape)\n",
        "print(\"Y batch shape:\", yb.shape)"
      ],
      "metadata": {
        "colab": {
          "base_uri": "https://localhost:8080/"
        },
        "id": "lGVrkYQ7y3AR",
        "outputId": "31bc76b8-4a50-44d7-ea07-6958b8247b4c"
      },
      "execution_count": 56,
      "outputs": [
        {
          "output_type": "stream",
          "name": "stdout",
          "text": [
            "X batch shape: torch.Size([32, 1, 8, 8])\n",
            "Y batch shape: torch.Size([32])\n"
          ]
        }
      ]
    },
    {
      "cell_type": "code",
      "source": [
        "import torch.nn as nn\n",
        "\n",
        "class SimpleCNN(nn.Module):\n",
        "    def __init__(self):\n",
        "        super(SimpleCNN, self).__init__()\n",
        "\n",
        "        # convolutional part\n",
        "        self.conv1 = nn.Conv2d(in_channels=1, out_channels=16, kernel_size=3, padding=1)\n",
        "        self.pool = nn.MaxPool2d(kernel_size=2, stride=2)  # reduce size 8x8 -> 4x4\n",
        "\n",
        "        # fully connected part\n",
        "        self.fc1 = nn.Linear(16 * 4 * 4, 64)  # flatten -> 64 neurons\n",
        "        self.fc2 = nn.Linear(64, 10)          # output 10 classes (0–9)\n",
        "\n",
        "    def forward(self, x):\n",
        "        # convolution block\n",
        "        x = self.conv1(x)        # conv\n",
        "        x = torch.relu(x)        # activation\n",
        "        x = self.pool(x)         # downsample (8x8 → 4x4)\n",
        "\n",
        "        # flatten\n",
        "        x = x.view(-1, 16 * 4 * 4)\n",
        "\n",
        "        # fully connected block\n",
        "        x = torch.relu(self.fc1(x))\n",
        "        x = self.fc2(x)\n",
        "        return x\n"
      ],
      "metadata": {
        "id": "UIWlI88xy9lZ"
      },
      "execution_count": 57,
      "outputs": []
    },
    {
      "cell_type": "code",
      "source": [
        "# lets see themodel\n",
        "model  = SimpleCNN()\n",
        "xb,yb = next(iter(train_loader))\n",
        "out = model(xb)\n",
        "print(xb.shape)\n",
        "print(out.shape)\n"
      ],
      "metadata": {
        "colab": {
          "base_uri": "https://localhost:8080/"
        },
        "id": "ACf5UbtB4Meq",
        "outputId": "790983f1-82a6-4685-fef9-8cb69a9e998b"
      },
      "execution_count": 58,
      "outputs": [
        {
          "output_type": "stream",
          "name": "stdout",
          "text": [
            "torch.Size([32, 1, 8, 8])\n",
            "torch.Size([32, 10])\n"
          ]
        }
      ]
    },
    {
      "cell_type": "code",
      "source": [
        "import torch.optim as optim\n",
        "criterion = nn.CrossEntropyLoss()\n",
        "optimizer = optim.Adam(model.parameters(),lr=0.001)"
      ],
      "metadata": {
        "id": "5z7bIGT45GyD"
      },
      "execution_count": 59,
      "outputs": []
    },
    {
      "cell_type": "code",
      "source": [
        "epochs = 10\n",
        "for epoch in range(epochs):\n",
        "  model.train()\n",
        "  running_loss = 0.0\n",
        "  for images, labels in train_loader:\n",
        "\n",
        "    optimizer.zero_grad()\n",
        "    outputs = model(images)\n",
        "    loss = criterion(outputs,labels)\n",
        "\n",
        "    # backward loss\n",
        "    loss.backward()\n",
        "    optimizer.step()\n",
        "    running_loss +=loss.item()\n",
        "\n",
        "  avg_loss = running_loss / len(train_loader)\n",
        "  print(f\"Epoch [{epoch+1}/{epochs}], Loss: {avg_loss:.4f}\")"
      ],
      "metadata": {
        "colab": {
          "base_uri": "https://localhost:8080/"
        },
        "id": "0ELuTgZd6GWj",
        "outputId": "b89f201f-7444-4257-8143-885f795af185"
      },
      "execution_count": 60,
      "outputs": [
        {
          "output_type": "stream",
          "name": "stdout",
          "text": [
            "Epoch [1/10], Loss: 2.1763\n",
            "Epoch [2/10], Loss: 1.6292\n",
            "Epoch [3/10], Loss: 0.9183\n",
            "Epoch [4/10], Loss: 0.5433\n",
            "Epoch [5/10], Loss: 0.3847\n",
            "Epoch [6/10], Loss: 0.2919\n",
            "Epoch [7/10], Loss: 0.2422\n",
            "Epoch [8/10], Loss: 0.2181\n",
            "Epoch [9/10], Loss: 0.1858\n",
            "Epoch [10/10], Loss: 0.1695\n"
          ]
        }
      ]
    },
    {
      "cell_type": "code",
      "source": [
        "# testing ke liye\n",
        "model.eval()\n",
        "correct, total = 0, 0\n",
        "with torch.no_grad():\n",
        "  for images, labels in test_loader:\n",
        "    outputs = model(images)\n",
        "    _, predicted = torch.max(outputs.data, 1)\n",
        "    total += labels.size(0)\n",
        "    correct += (predicted == labels).sum().item()\n",
        "\n",
        "accuracy = 100 * correct / total\n",
        "print(f\"Test Accuracy: {accuracy:.2f}%\")"
      ],
      "metadata": {
        "colab": {
          "base_uri": "https://localhost:8080/"
        },
        "id": "fKv1tdRo8jQ9",
        "outputId": "d19c8da7-48e4-43f2-f77d-c55a30eb0eb6"
      },
      "execution_count": 61,
      "outputs": [
        {
          "output_type": "stream",
          "name": "stdout",
          "text": [
            "Test Accuracy: 93.89%\n"
          ]
        }
      ]
    },
    {
      "cell_type": "code",
      "source": [
        "# lets incresses performance\n",
        "import torch.nn as nn\n",
        "\n",
        "class ImprovedCNN(nn.Module):\n",
        "  def __init__(self):\n",
        "    super(ImprovedCNN, self).__init__()\n",
        "    self.conv1 = nn.Conv2d(1,32,kernel_size=3,padding=1)\n",
        "    self.bn1 = nn.BatchNorm2d(32)\n",
        "    self.pool = nn.MaxPool2d(2,2)\n",
        "\n",
        "    self.conv2 = nn.Conv2d(32,64,kernel_size=3,padding=1)\n",
        "    self.bn2 = nn.BatchNorm2d(64)\n",
        "\n",
        "    #fully conneted part\n",
        "    self.fc1 = nn.Linear(64*2*2,128)\n",
        "    self.dropout = nn.Dropout(0.5)\n",
        "    self.fc2 = nn.Linear(128,10)\n",
        "\n",
        "  def forward(self, x):\n",
        "    x = self.pool(torch.relu(self.bn1(self.conv1(x))))\n",
        "    x = self.pool(torch.relu(self.bn2(self.conv2(x))))\n",
        "    x = x.view(x.size(0), -1)\n",
        "    x = torch.relu(self.fc1(x))\n",
        "    x = self.dropout(x)\n",
        "    x = self.fc2(x)\n",
        "    return x"
      ],
      "metadata": {
        "id": "EtVxAzWg9SoU"
      },
      "execution_count": 62,
      "outputs": []
    },
    {
      "cell_type": "code",
      "source": [
        "model_1 = ImprovedCNN()\n",
        "in_idx,out_idx = next(iter(train_loader))\n",
        "out = model_1(in_idx)\n",
        "print(in_idx.shape)\n",
        "print(out.shape)"
      ],
      "metadata": {
        "colab": {
          "base_uri": "https://localhost:8080/"
        },
        "id": "nsZijGNHu1ZM",
        "outputId": "f1ddddaa-61bd-4016-bf9c-8e2ad9325b1b"
      },
      "execution_count": 63,
      "outputs": [
        {
          "output_type": "stream",
          "name": "stdout",
          "text": [
            "torch.Size([32, 1, 8, 8])\n",
            "torch.Size([32, 10])\n"
          ]
        }
      ]
    },
    {
      "cell_type": "code",
      "source": [
        "carterion = nn.CrossEntropyLoss()\n",
        "optimizer = optim.Adam(model_1.parameters(),lr=0.001)"
      ],
      "metadata": {
        "id": "SDcyE4UNvybO"
      },
      "execution_count": 64,
      "outputs": []
    },
    {
      "cell_type": "code",
      "source": [
        "epochs = 5  # kitne round me pura dataset pass karna hai\n",
        "\n",
        "for epoch in range(epochs):\n",
        "    running_loss = 0.0\n",
        "\n",
        "    for images, labels in train_loader:\n",
        "        # 1. forward pass\n",
        "        outputs = model_1(images)\n",
        "        loss = criterion(outputs, labels)\n",
        "\n",
        "        # 2. backward pass\n",
        "        optimizer.zero_grad()\n",
        "        loss.backward()\n",
        "        optimizer.step()\n",
        "\n",
        "        running_loss += loss.item()\n",
        "\n",
        "    print(f\"Epoch [{epoch+1}/{epochs}], Loss: {running_loss/len(train_loader):.4f}\")\n"
      ],
      "metadata": {
        "colab": {
          "base_uri": "https://localhost:8080/"
        },
        "id": "HUFC1I_dxORB",
        "outputId": "1da0f282-51c6-419d-a26a-57fd15d0b050"
      },
      "execution_count": 65,
      "outputs": [
        {
          "output_type": "stream",
          "name": "stdout",
          "text": [
            "Epoch [1/5], Loss: 1.3416\n",
            "Epoch [2/5], Loss: 0.4209\n",
            "Epoch [3/5], Loss: 0.2044\n",
            "Epoch [4/5], Loss: 0.1246\n",
            "Epoch [5/5], Loss: 0.0872\n"
          ]
        }
      ]
    },
    {
      "cell_type": "code",
      "source": [
        "model_1.eval()"
      ],
      "metadata": {
        "colab": {
          "base_uri": "https://localhost:8080/"
        },
        "id": "g-Tj4y8ZyTN8",
        "outputId": "a5e70cb9-74a1-42be-8564-7cdaefae3bd2"
      },
      "execution_count": 66,
      "outputs": [
        {
          "output_type": "execute_result",
          "data": {
            "text/plain": [
              "ImprovedCNN(\n",
              "  (conv1): Conv2d(1, 32, kernel_size=(3, 3), stride=(1, 1), padding=(1, 1))\n",
              "  (bn1): BatchNorm2d(32, eps=1e-05, momentum=0.1, affine=True, track_running_stats=True)\n",
              "  (pool): MaxPool2d(kernel_size=2, stride=2, padding=0, dilation=1, ceil_mode=False)\n",
              "  (conv2): Conv2d(32, 64, kernel_size=(3, 3), stride=(1, 1), padding=(1, 1))\n",
              "  (bn2): BatchNorm2d(64, eps=1e-05, momentum=0.1, affine=True, track_running_stats=True)\n",
              "  (fc1): Linear(in_features=256, out_features=128, bias=True)\n",
              "  (dropout): Dropout(p=0.5, inplace=False)\n",
              "  (fc2): Linear(in_features=128, out_features=10, bias=True)\n",
              ")"
            ]
          },
          "metadata": {},
          "execution_count": 66
        }
      ]
    },
    {
      "cell_type": "code",
      "source": [
        "correct = 0\n",
        "total = 0\n",
        "\n",
        "with torch.no_grad():   # gradients off\n",
        "    for images, labels in test_loader:\n",
        "        outputs = model_1(images)                # forward pass\n",
        "        _, predicted = torch.max(outputs, 1)\n",
        "             # highest score class\n",
        "        total += labels.size(0)                  # total samples count\n",
        "        correct += (predicted == labels).sum().item()  # correct predictions\n"
      ],
      "metadata": {
        "id": "aGzqNcuRzVE4"
      },
      "execution_count": 67,
      "outputs": []
    },
    {
      "cell_type": "code",
      "source": [
        "improved_accuracy = 100 * correct / total\n",
        "print(f\"Test Accuracy: {improved_accuracy:.2f}%\")"
      ],
      "metadata": {
        "colab": {
          "base_uri": "https://localhost:8080/"
        },
        "id": "HeCR4_uazol0",
        "outputId": "fdb530fe-3834-425b-b9bc-0369883eaada"
      },
      "execution_count": 68,
      "outputs": [
        {
          "output_type": "stream",
          "name": "stdout",
          "text": [
            "Test Accuracy: 97.78%\n"
          ]
        }
      ]
    },
    {
      "cell_type": "code",
      "source": [
        "import pandas as pd\n",
        "df = pd.DataFrame({\n",
        "    'Model': ['BaseCNN', 'ImprovedCNN'],\n",
        "    'Test Accuracy (%)': [accuracy, improved_accuracy]\n",
        "})\n",
        "print(df)"
      ],
      "metadata": {
        "colab": {
          "base_uri": "https://localhost:8080/"
        },
        "id": "Y-eu7pbCz6zv",
        "outputId": "1dd66ac8-b4a4-457e-faf6-a146817abc5b"
      },
      "execution_count": 69,
      "outputs": [
        {
          "output_type": "stream",
          "name": "stdout",
          "text": [
            "         Model  Test Accuracy (%)\n",
            "0      BaseCNN          93.888889\n",
            "1  ImprovedCNN          97.777778\n"
          ]
        }
      ]
    },
    {
      "cell_type": "code",
      "source": [],
      "metadata": {
        "id": "I1NGJ8R30wXI"
      },
      "execution_count": null,
      "outputs": []
    }
  ]
}